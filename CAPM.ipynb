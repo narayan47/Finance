{
 "cells": [
  {
   "cell_type": "markdown",
   "metadata": {},
   "source": [
    "# Capital Asset Pricing Model (CAPM) "
   ]
  },
  {
   "cell_type": "markdown",
   "metadata": {},
   "source": [
    "The capital asset pricing model (CAPM) is a model used to determine a theoretically appropriate required rate of return of an asset, to make decisions about adding assets to a well-diversified portfolio. According to CAPM, the expected returns of a stock are linearly correlated with expected market returns.\n",
    "\n",
    "The model takes into account the asset's sensitivity to non-diversifiable risk also known as <b> systematic risk or market risk ( $\\beta$ )</b> in the financial industry, as well as the expected return of the market and the expected return of a theoretical risk-free asset.\n",
    "\n",
    "\n",
    "Mathematically, the expected return of a particular investment $E[r_{a}]$ is given the following equation:\n",
    "\n",
    "$$\n",
    "E[r_{a}] = r_{f} + \\beta_{a}(E[r_{m}]-r_{f})\\,\n",
    "$$\n",
    "\n",
    "\n",
    "where $r_{f}$ is the a risk free return (like goverment bond returns), $E[r_{m}]$ is the expected return from the market, usually measured by the return on some index like S&P 500, and $\\beta_{a}$ measures the volatility of the investement with respect to the market, and is formally given by:\n",
    "$$\n",
    "\\beta_{a} = \\frac{\\text{Cov}(r_{a},r_{m})}{\\text{Var}(r_{m})}\\,\n",
    "$$\n",
    "\n",
    "The meaning of $\\beta$ is that when the expected market risk-premium increases by\n",
    "1%, the individual stock's expected return would increase by  $\\beta$ %, vice versa. Thus,\n",
    "beta (market risk) could be viewed as an amplifier. The average beta of all stocks is\n",
    "one. Thus, if a stock's beta is higher than 1, it means that its market risk is higher than\n",
    "that of an average stock.\n",
    "\n",
    "\n",
    "Thus, the model assumes a linear relationship between $E[r_{a}]$ and the quantity $(E[r_{m}]-r_{f})$, also called as the <b>market premium</b>, which is mediated by the coefficient $\\beta_{a}$. If we would like to measure all the returns in the model with respect to the risk free rate $r_{f}$ and thus construct a linear regression between the quantities $(E[r_{a}]-r_{f})$ and the market premium $(E[r_{a}]-r_{f})$, one must the pose this relationship as:\n",
    "\n",
    "\n",
    "$$\n",
    "(E[r_{a}]-r_{f}) = \\alpha + \\beta_{a}(E[r_{m}]-r_{f})\\,.\n",
    "$$\n",
    "\n",
    "\n",
    "In this manner, $\\alpha$ meassures the difference between the expected return $E[r_{a}]$ as measured in real life, and the expected return of our investment as given by the CAPM:\n",
    "\n",
    "\n",
    "$$\n",
    "\\alpha = E[r_{a}] - \\left( r_{f} +\\beta_{a}(E[r_{m}]-r_{f})\\right)\\,.\n",
    "$$\n"
   ]
  },
  {
   "cell_type": "code",
   "execution_count": 1,
   "metadata": {},
   "outputs": [],
   "source": [
    "import pandas as pd\n",
    "import numpy as np\n",
    "import yfinance as yf \n",
    "import matplotlib.pyplot as plt\n",
    "#import seaborn as sns\n",
    "%matplotlib inline\n",
    "plt.style.use('ggplot')"
   ]
  },
  {
   "cell_type": "markdown",
   "metadata": {},
   "source": [
    "We will use  S&P 500 (ticker: ^GSPC) to compute $E[r_{m}]$ and set $r_f = 0 $, for simplicity. Let us then apply the CAPM to IBM stocks. To capture less noise in our construction, we will focus on monthly returns. "
   ]
  },
  {
   "cell_type": "code",
   "execution_count": 2,
   "metadata": {},
   "outputs": [
    {
     "data": {
      "text/html": [
       "<div>\n",
       "<style scoped>\n",
       "    .dataframe tbody tr th:only-of-type {\n",
       "        vertical-align: middle;\n",
       "    }\n",
       "\n",
       "    .dataframe tbody tr th {\n",
       "        vertical-align: top;\n",
       "    }\n",
       "\n",
       "    .dataframe thead th {\n",
       "        text-align: right;\n",
       "    }\n",
       "</style>\n",
       "<table border=\"1\" class=\"dataframe\">\n",
       "  <thead>\n",
       "    <tr style=\"text-align: right;\">\n",
       "      <th></th>\n",
       "      <th>Open</th>\n",
       "      <th>High</th>\n",
       "      <th>Low</th>\n",
       "      <th>Close</th>\n",
       "      <th>Volume</th>\n",
       "      <th>Dividends</th>\n",
       "      <th>Stock Splits</th>\n",
       "    </tr>\n",
       "    <tr>\n",
       "      <th>Date</th>\n",
       "      <th></th>\n",
       "      <th></th>\n",
       "      <th></th>\n",
       "      <th></th>\n",
       "      <th></th>\n",
       "      <th></th>\n",
       "      <th></th>\n",
       "    </tr>\n",
       "  </thead>\n",
       "  <tbody>\n",
       "    <tr>\n",
       "      <th>2012-02-06</th>\n",
       "      <td>128.54</td>\n",
       "      <td>129.39</td>\n",
       "      <td>128.22</td>\n",
       "      <td>128.77</td>\n",
       "      <td>3807231</td>\n",
       "      <td>0.000000</td>\n",
       "      <td>0.0</td>\n",
       "    </tr>\n",
       "    <tr>\n",
       "      <th>2012-02-07</th>\n",
       "      <td>128.52</td>\n",
       "      <td>129.65</td>\n",
       "      <td>128.20</td>\n",
       "      <td>129.12</td>\n",
       "      <td>3590918</td>\n",
       "      <td>0.000000</td>\n",
       "      <td>0.0</td>\n",
       "    </tr>\n",
       "    <tr>\n",
       "      <th>2012-02-08</th>\n",
       "      <td>129.24</td>\n",
       "      <td>129.78</td>\n",
       "      <td>128.54</td>\n",
       "      <td>129.36</td>\n",
       "      <td>3978775</td>\n",
       "      <td>0.717017</td>\n",
       "      <td>0.0</td>\n",
       "    </tr>\n",
       "    <tr>\n",
       "      <th>2012-02-09</th>\n",
       "      <td>129.41</td>\n",
       "      <td>130.37</td>\n",
       "      <td>129.09</td>\n",
       "      <td>129.48</td>\n",
       "      <td>4054714</td>\n",
       "      <td>0.000000</td>\n",
       "      <td>0.0</td>\n",
       "    </tr>\n",
       "    <tr>\n",
       "      <th>2012-02-10</th>\n",
       "      <td>128.56</td>\n",
       "      <td>129.01</td>\n",
       "      <td>128.24</td>\n",
       "      <td>129.00</td>\n",
       "      <td>3547091</td>\n",
       "      <td>0.000000</td>\n",
       "      <td>0.0</td>\n",
       "    </tr>\n",
       "    <tr>\n",
       "      <th>...</th>\n",
       "      <td>...</td>\n",
       "      <td>...</td>\n",
       "      <td>...</td>\n",
       "      <td>...</td>\n",
       "      <td>...</td>\n",
       "      <td>...</td>\n",
       "      <td>...</td>\n",
       "    </tr>\n",
       "    <tr>\n",
       "      <th>2022-01-31</th>\n",
       "      <td>134.09</td>\n",
       "      <td>134.09</td>\n",
       "      <td>132.30</td>\n",
       "      <td>133.57</td>\n",
       "      <td>5859000</td>\n",
       "      <td>0.000000</td>\n",
       "      <td>0.0</td>\n",
       "    </tr>\n",
       "    <tr>\n",
       "      <th>2022-02-01</th>\n",
       "      <td>133.76</td>\n",
       "      <td>135.96</td>\n",
       "      <td>132.50</td>\n",
       "      <td>135.53</td>\n",
       "      <td>6206400</td>\n",
       "      <td>0.000000</td>\n",
       "      <td>0.0</td>\n",
       "    </tr>\n",
       "    <tr>\n",
       "      <th>2022-02-02</th>\n",
       "      <td>135.70</td>\n",
       "      <td>137.56</td>\n",
       "      <td>135.26</td>\n",
       "      <td>137.25</td>\n",
       "      <td>5357200</td>\n",
       "      <td>0.000000</td>\n",
       "      <td>0.0</td>\n",
       "    </tr>\n",
       "    <tr>\n",
       "      <th>2022-02-03</th>\n",
       "      <td>137.00</td>\n",
       "      <td>138.76</td>\n",
       "      <td>135.83</td>\n",
       "      <td>137.78</td>\n",
       "      <td>6100100</td>\n",
       "      <td>0.000000</td>\n",
       "      <td>0.0</td>\n",
       "    </tr>\n",
       "    <tr>\n",
       "      <th>2022-02-04</th>\n",
       "      <td>137.86</td>\n",
       "      <td>138.81</td>\n",
       "      <td>136.21</td>\n",
       "      <td>136.61</td>\n",
       "      <td>1305447</td>\n",
       "      <td>0.000000</td>\n",
       "      <td>0.0</td>\n",
       "    </tr>\n",
       "  </tbody>\n",
       "</table>\n",
       "<p>2518 rows × 7 columns</p>\n",
       "</div>"
      ],
      "text/plain": [
       "              Open    High     Low   Close   Volume  Dividends  Stock Splits\n",
       "Date                                                                        \n",
       "2012-02-06  128.54  129.39  128.22  128.77  3807231   0.000000           0.0\n",
       "2012-02-07  128.52  129.65  128.20  129.12  3590918   0.000000           0.0\n",
       "2012-02-08  129.24  129.78  128.54  129.36  3978775   0.717017           0.0\n",
       "2012-02-09  129.41  130.37  129.09  129.48  4054714   0.000000           0.0\n",
       "2012-02-10  128.56  129.01  128.24  129.00  3547091   0.000000           0.0\n",
       "...            ...     ...     ...     ...      ...        ...           ...\n",
       "2022-01-31  134.09  134.09  132.30  133.57  5859000   0.000000           0.0\n",
       "2022-02-01  133.76  135.96  132.50  135.53  6206400   0.000000           0.0\n",
       "2022-02-02  135.70  137.56  135.26  137.25  5357200   0.000000           0.0\n",
       "2022-02-03  137.00  138.76  135.83  137.78  6100100   0.000000           0.0\n",
       "2022-02-04  137.86  138.81  136.21  136.61  1305447   0.000000           0.0\n",
       "\n",
       "[2518 rows x 7 columns]"
      ]
     },
     "execution_count": 2,
     "metadata": {},
     "output_type": "execute_result"
    }
   ],
   "source": [
    "import yfinance as yf\n",
    "data1, data2 = yf.Ticker(\"IBM\"), yf.Ticker('^GSPC')\n",
    "ibm, sp = data1.history(period = \"10y\",rounding=2), data2.history(period = \"10y\",rounding=2)\n",
    "ibm"
   ]
  },
  {
   "cell_type": "code",
   "execution_count": 3,
   "metadata": {},
   "outputs": [
    {
     "data": {
      "text/html": [
       "<div>\n",
       "<style scoped>\n",
       "    .dataframe tbody tr th:only-of-type {\n",
       "        vertical-align: middle;\n",
       "    }\n",
       "\n",
       "    .dataframe tbody tr th {\n",
       "        vertical-align: top;\n",
       "    }\n",
       "\n",
       "    .dataframe thead th {\n",
       "        text-align: right;\n",
       "    }\n",
       "</style>\n",
       "<table border=\"1\" class=\"dataframe\">\n",
       "  <thead>\n",
       "    <tr style=\"text-align: right;\">\n",
       "      <th></th>\n",
       "      <th>Open</th>\n",
       "      <th>High</th>\n",
       "      <th>Low</th>\n",
       "      <th>Close</th>\n",
       "      <th>Volume</th>\n",
       "      <th>Dividends</th>\n",
       "      <th>Stock Splits</th>\n",
       "    </tr>\n",
       "    <tr>\n",
       "      <th>Date</th>\n",
       "      <th></th>\n",
       "      <th></th>\n",
       "      <th></th>\n",
       "      <th></th>\n",
       "      <th></th>\n",
       "      <th></th>\n",
       "      <th></th>\n",
       "    </tr>\n",
       "  </thead>\n",
       "  <tbody>\n",
       "    <tr>\n",
       "      <th>2012-02-06</th>\n",
       "      <td>1344.32</td>\n",
       "      <td>1344.36</td>\n",
       "      <td>1337.52</td>\n",
       "      <td>1344.33</td>\n",
       "      <td>3379700000</td>\n",
       "      <td>0</td>\n",
       "      <td>0</td>\n",
       "    </tr>\n",
       "    <tr>\n",
       "      <th>2012-02-07</th>\n",
       "      <td>1344.33</td>\n",
       "      <td>1349.24</td>\n",
       "      <td>1335.92</td>\n",
       "      <td>1347.05</td>\n",
       "      <td>3742460000</td>\n",
       "      <td>0</td>\n",
       "      <td>0</td>\n",
       "    </tr>\n",
       "    <tr>\n",
       "      <th>2012-02-08</th>\n",
       "      <td>1347.04</td>\n",
       "      <td>1351.00</td>\n",
       "      <td>1341.95</td>\n",
       "      <td>1349.96</td>\n",
       "      <td>4096730000</td>\n",
       "      <td>0</td>\n",
       "      <td>0</td>\n",
       "    </tr>\n",
       "    <tr>\n",
       "      <th>2012-02-09</th>\n",
       "      <td>1349.97</td>\n",
       "      <td>1354.32</td>\n",
       "      <td>1344.63</td>\n",
       "      <td>1351.95</td>\n",
       "      <td>4209890000</td>\n",
       "      <td>0</td>\n",
       "      <td>0</td>\n",
       "    </tr>\n",
       "    <tr>\n",
       "      <th>2012-02-10</th>\n",
       "      <td>1351.21</td>\n",
       "      <td>1351.21</td>\n",
       "      <td>1337.35</td>\n",
       "      <td>1342.64</td>\n",
       "      <td>3877580000</td>\n",
       "      <td>0</td>\n",
       "      <td>0</td>\n",
       "    </tr>\n",
       "    <tr>\n",
       "      <th>...</th>\n",
       "      <td>...</td>\n",
       "      <td>...</td>\n",
       "      <td>...</td>\n",
       "      <td>...</td>\n",
       "      <td>...</td>\n",
       "      <td>...</td>\n",
       "      <td>...</td>\n",
       "    </tr>\n",
       "    <tr>\n",
       "      <th>2022-01-31</th>\n",
       "      <td>4431.79</td>\n",
       "      <td>4516.89</td>\n",
       "      <td>4414.02</td>\n",
       "      <td>4515.55</td>\n",
       "      <td>4001950000</td>\n",
       "      <td>0</td>\n",
       "      <td>0</td>\n",
       "    </tr>\n",
       "    <tr>\n",
       "      <th>2022-02-01</th>\n",
       "      <td>4519.57</td>\n",
       "      <td>4550.49</td>\n",
       "      <td>4483.53</td>\n",
       "      <td>4546.54</td>\n",
       "      <td>3796450000</td>\n",
       "      <td>0</td>\n",
       "      <td>0</td>\n",
       "    </tr>\n",
       "    <tr>\n",
       "      <th>2022-02-02</th>\n",
       "      <td>4566.39</td>\n",
       "      <td>4595.31</td>\n",
       "      <td>4544.32</td>\n",
       "      <td>4589.38</td>\n",
       "      <td>3777170000</td>\n",
       "      <td>0</td>\n",
       "      <td>0</td>\n",
       "    </tr>\n",
       "    <tr>\n",
       "      <th>2022-02-03</th>\n",
       "      <td>4535.41</td>\n",
       "      <td>4542.88</td>\n",
       "      <td>4470.39</td>\n",
       "      <td>4477.44</td>\n",
       "      <td>3596830000</td>\n",
       "      <td>0</td>\n",
       "      <td>0</td>\n",
       "    </tr>\n",
       "    <tr>\n",
       "      <th>2022-02-04</th>\n",
       "      <td>4482.79</td>\n",
       "      <td>4500.07</td>\n",
       "      <td>4451.50</td>\n",
       "      <td>4460.77</td>\n",
       "      <td>897421446</td>\n",
       "      <td>0</td>\n",
       "      <td>0</td>\n",
       "    </tr>\n",
       "  </tbody>\n",
       "</table>\n",
       "<p>2518 rows × 7 columns</p>\n",
       "</div>"
      ],
      "text/plain": [
       "               Open     High      Low    Close      Volume  Dividends  \\\n",
       "Date                                                                    \n",
       "2012-02-06  1344.32  1344.36  1337.52  1344.33  3379700000          0   \n",
       "2012-02-07  1344.33  1349.24  1335.92  1347.05  3742460000          0   \n",
       "2012-02-08  1347.04  1351.00  1341.95  1349.96  4096730000          0   \n",
       "2012-02-09  1349.97  1354.32  1344.63  1351.95  4209890000          0   \n",
       "2012-02-10  1351.21  1351.21  1337.35  1342.64  3877580000          0   \n",
       "...             ...      ...      ...      ...         ...        ...   \n",
       "2022-01-31  4431.79  4516.89  4414.02  4515.55  4001950000          0   \n",
       "2022-02-01  4519.57  4550.49  4483.53  4546.54  3796450000          0   \n",
       "2022-02-02  4566.39  4595.31  4544.32  4589.38  3777170000          0   \n",
       "2022-02-03  4535.41  4542.88  4470.39  4477.44  3596830000          0   \n",
       "2022-02-04  4482.79  4500.07  4451.50  4460.77   897421446          0   \n",
       "\n",
       "            Stock Splits  \n",
       "Date                      \n",
       "2012-02-06             0  \n",
       "2012-02-07             0  \n",
       "2012-02-08             0  \n",
       "2012-02-09             0  \n",
       "2012-02-10             0  \n",
       "...                  ...  \n",
       "2022-01-31             0  \n",
       "2022-02-01             0  \n",
       "2022-02-02             0  \n",
       "2022-02-03             0  \n",
       "2022-02-04             0  \n",
       "\n",
       "[2518 rows x 7 columns]"
      ]
     },
     "execution_count": 3,
     "metadata": {},
     "output_type": "execute_result"
    }
   ],
   "source": [
    "sp"
   ]
  },
  {
   "cell_type": "markdown",
   "metadata": {},
   "source": [
    "##### only consider the close price "
   ]
  },
  {
   "cell_type": "code",
   "execution_count": 4,
   "metadata": {},
   "outputs": [
    {
     "data": {
      "text/plain": [
       "(Date\n",
       " 2012-02-06    128.77\n",
       " 2012-02-07    129.12\n",
       " 2012-02-08    129.36\n",
       " 2012-02-09    129.48\n",
       " 2012-02-10    129.00\n",
       " Name: Close, dtype: float64,\n",
       " Date\n",
       " 2012-02-06    1344.33\n",
       " 2012-02-07    1347.05\n",
       " 2012-02-08    1349.96\n",
       " 2012-02-09    1351.95\n",
       " 2012-02-10    1342.64\n",
       " Name: Close, dtype: float64)"
      ]
     },
     "execution_count": 4,
     "metadata": {},
     "output_type": "execute_result"
    }
   ],
   "source": [
    "data_a, data_m   = ibm['Close'], sp['Close']\n",
    "data_a.head(5), data_m.head(5)"
   ]
  },
  {
   "cell_type": "markdown",
   "metadata": {},
   "source": [
    "##### We focus now on  monthly returns "
   ]
  },
  {
   "cell_type": "code",
   "execution_count": 5,
   "metadata": {},
   "outputs": [
    {
     "data": {
      "text/plain": [
       "(Date\n",
       " 2012-02-29    131.89\n",
       " 2012-03-31    139.88\n",
       " 2012-04-30    138.83\n",
       " 2012-05-31    129.86\n",
       " 2012-06-30    131.67\n",
       " Freq: M, Name: Close, dtype: float64,\n",
       " Date\n",
       " 2012-02-29    1365.68\n",
       " 2012-03-31    1408.47\n",
       " 2012-04-30    1397.91\n",
       " 2012-05-31    1310.33\n",
       " 2012-06-30    1362.16\n",
       " Freq: M, Name: Close, dtype: float64)"
      ]
     },
     "execution_count": 5,
     "metadata": {},
     "output_type": "execute_result"
    }
   ],
   "source": [
    "M_stock_a, M_stock_m = data_a.resample('M').last(), data_m.resample('M').last()\n",
    "M_stock_a.head(5), M_stock_m.head(5)"
   ]
  },
  {
   "cell_type": "code",
   "execution_count": 6,
   "metadata": {},
   "outputs": [
    {
     "data": {
      "text/html": [
       "<div>\n",
       "<style scoped>\n",
       "    .dataframe tbody tr th:only-of-type {\n",
       "        vertical-align: middle;\n",
       "    }\n",
       "\n",
       "    .dataframe tbody tr th {\n",
       "        vertical-align: top;\n",
       "    }\n",
       "\n",
       "    .dataframe thead th {\n",
       "        text-align: right;\n",
       "    }\n",
       "</style>\n",
       "<table border=\"1\" class=\"dataframe\">\n",
       "  <thead>\n",
       "    <tr style=\"text-align: right;\">\n",
       "      <th></th>\n",
       "      <th>IBM</th>\n",
       "      <th>SP</th>\n",
       "    </tr>\n",
       "    <tr>\n",
       "      <th>Date</th>\n",
       "      <th></th>\n",
       "      <th></th>\n",
       "    </tr>\n",
       "  </thead>\n",
       "  <tbody>\n",
       "    <tr>\n",
       "      <th>2012-02-29</th>\n",
       "      <td>131.89</td>\n",
       "      <td>1365.68</td>\n",
       "    </tr>\n",
       "    <tr>\n",
       "      <th>2012-03-31</th>\n",
       "      <td>139.88</td>\n",
       "      <td>1408.47</td>\n",
       "    </tr>\n",
       "    <tr>\n",
       "      <th>2012-04-30</th>\n",
       "      <td>138.83</td>\n",
       "      <td>1397.91</td>\n",
       "    </tr>\n",
       "    <tr>\n",
       "      <th>2012-05-31</th>\n",
       "      <td>129.86</td>\n",
       "      <td>1310.33</td>\n",
       "    </tr>\n",
       "    <tr>\n",
       "      <th>2012-06-30</th>\n",
       "      <td>131.67</td>\n",
       "      <td>1362.16</td>\n",
       "    </tr>\n",
       "  </tbody>\n",
       "</table>\n",
       "</div>"
      ],
      "text/plain": [
       "               IBM       SP\n",
       "Date                       \n",
       "2012-02-29  131.89  1365.68\n",
       "2012-03-31  139.88  1408.47\n",
       "2012-04-30  138.83  1397.91\n",
       "2012-05-31  129.86  1310.33\n",
       "2012-06-30  131.67  1362.16"
      ]
     },
     "execution_count": 6,
     "metadata": {},
     "output_type": "execute_result"
    }
   ],
   "source": [
    "data = pd.DataFrame({'IBM':M_stock_a, 'SP': M_stock_m})\n",
    "data.head()"
   ]
  },
  {
   "cell_type": "markdown",
   "metadata": {},
   "source": [
    "##### calculate log returns"
   ]
  },
  {
   "cell_type": "code",
   "execution_count": 7,
   "metadata": {},
   "outputs": [
    {
     "data": {
      "text/html": [
       "<div>\n",
       "<style scoped>\n",
       "    .dataframe tbody tr th:only-of-type {\n",
       "        vertical-align: middle;\n",
       "    }\n",
       "\n",
       "    .dataframe tbody tr th {\n",
       "        vertical-align: top;\n",
       "    }\n",
       "\n",
       "    .dataframe thead th {\n",
       "        text-align: right;\n",
       "    }\n",
       "</style>\n",
       "<table border=\"1\" class=\"dataframe\">\n",
       "  <thead>\n",
       "    <tr style=\"text-align: right;\">\n",
       "      <th></th>\n",
       "      <th>IBM</th>\n",
       "      <th>SP</th>\n",
       "      <th>IBM_log</th>\n",
       "      <th>SP_log</th>\n",
       "    </tr>\n",
       "    <tr>\n",
       "      <th>Date</th>\n",
       "      <th></th>\n",
       "      <th></th>\n",
       "      <th></th>\n",
       "      <th></th>\n",
       "    </tr>\n",
       "  </thead>\n",
       "  <tbody>\n",
       "    <tr>\n",
       "      <th>2012-03-31</th>\n",
       "      <td>139.88</td>\n",
       "      <td>1408.47</td>\n",
       "      <td>0.060581</td>\n",
       "      <td>0.031332</td>\n",
       "    </tr>\n",
       "    <tr>\n",
       "      <th>2012-04-30</th>\n",
       "      <td>138.83</td>\n",
       "      <td>1397.91</td>\n",
       "      <td>-0.007506</td>\n",
       "      <td>-0.007497</td>\n",
       "    </tr>\n",
       "    <tr>\n",
       "      <th>2012-05-31</th>\n",
       "      <td>129.86</td>\n",
       "      <td>1310.33</td>\n",
       "      <td>-0.064611</td>\n",
       "      <td>-0.062651</td>\n",
       "    </tr>\n",
       "    <tr>\n",
       "      <th>2012-06-30</th>\n",
       "      <td>131.67</td>\n",
       "      <td>1362.16</td>\n",
       "      <td>0.013938</td>\n",
       "      <td>0.039555</td>\n",
       "    </tr>\n",
       "    <tr>\n",
       "      <th>2012-07-31</th>\n",
       "      <td>131.94</td>\n",
       "      <td>1379.32</td>\n",
       "      <td>0.002051</td>\n",
       "      <td>0.012598</td>\n",
       "    </tr>\n",
       "  </tbody>\n",
       "</table>\n",
       "</div>"
      ],
      "text/plain": [
       "               IBM       SP   IBM_log    SP_log\n",
       "Date                                           \n",
       "2012-03-31  139.88  1408.47  0.060581  0.031332\n",
       "2012-04-30  138.83  1397.91 -0.007506 -0.007497\n",
       "2012-05-31  129.86  1310.33 -0.064611 -0.062651\n",
       "2012-06-30  131.67  1362.16  0.013938  0.039555\n",
       "2012-07-31  131.94  1379.32  0.002051  0.012598"
      ]
     },
     "execution_count": 7,
     "metadata": {},
     "output_type": "execute_result"
    }
   ],
   "source": [
    "data['IBM_log'] = data.IBM.pct_change()\n",
    "data['SP_log'] = data.SP.pct_change()\n",
    "#data[['IBM_log','SP_log']] = np.log(data[['IBM','SP']]/data[['IBM','SP']].shift(1))\n",
    "data.dropna(inplace=True)\n",
    "data.head()"
   ]
  },
  {
   "cell_type": "markdown",
   "metadata": {},
   "source": [
    "##### The scatter plot of returns"
   ]
  },
  {
   "cell_type": "code",
   "execution_count": 8,
   "metadata": {},
   "outputs": [
    {
     "data": {
      "image/png": "[encoded data removed]",
      "text/plain": [
       "<Figure size 864x576 with 1 Axes>"
      ]
     },
     "metadata": {},
     "output_type": "display_data"
    }
   ],
   "source": [
    "plt.figure(figsize = (12,8))\n",
    "plt.axvline(0, color='grey', alpha = 0.7)\n",
    "plt.axhline(0, color='grey', alpha = 0.7)\n",
    "plt.scatter(y = 'IBM_log', x = 'SP_log', data = data, c='g' )\n",
    "plt.xlabel('Market Monthly Return: SP')\n",
    "plt.ylabel('Investment Monthly Return:IBM')\n",
    "plt.show()"
   ]
  },
  {
   "cell_type": "markdown",
   "metadata": {},
   "source": [
    "##### compute  $\\beta$ according to the CAPM formula"
   ]
  },
  {
   "cell_type": "code",
   "execution_count": 9,
   "metadata": {},
   "outputs": [
    {
     "name": "stdout",
     "output_type": "stream",
     "text": [
      "Beta from CAPM formula:  1.0474\n"
     ]
    }
   ],
   "source": [
    "beta_form = (data[['IBM_log','SP_log']].cov()/data['SP_log'].var()).iloc[0].iloc[1]\n",
    "print('Beta from CAPM formula: ',beta_form.round(4))"
   ]
  },
  {
   "cell_type": "markdown",
   "metadata": {},
   "source": [
    "##### Now, with our returns data, we make a linear regression and compute $\\alpha$ and $\\beta$:"
   ]
  },
  {
   "cell_type": "code",
   "execution_count": 10,
   "metadata": {},
   "outputs": [
    {
     "name": "stdout",
     "output_type": "stream",
     "text": [
      "Beta from Linear Regression:  1.0474\n",
      "Alpha:  -0.009\n"
     ]
    }
   ],
   "source": [
    "beta_reg, alpha = np.polyfit(x = data['SP_log'] , y = data['IBM_log'] ,deg = 1)\n",
    "print('Beta from Linear Regression: ',beta_reg.round(4))\n",
    "print('Alpha: ', alpha.round(3))"
   ]
  },
  {
   "cell_type": "markdown",
   "metadata": {},
   "source": [
    "##### Finally, we plot our returns scatter plot along with the CAPM line:"
   ]
  },
  {
   "cell_type": "code",
   "execution_count": 11,
   "metadata": {
    "scrolled": false
   },
   "outputs": [
    {
     "data": {
      "image/png": "[encoded data removed]",
      "text/plain": [
       "<Figure size 936x648 with 1 Axes>"
      ]
     },
     "metadata": {},
     "output_type": "display_data"
    }
   ],
   "source": [
    "plt.figure(figsize = (13,9))\n",
    "plt.axvline(0, color='grey', alpha = 0.5)\n",
    "plt.axhline(0, color='grey', alpha = 0.5)\n",
    "plt.scatter(y = 'IBM_log', x = 'SP_log', data = data, c='g', label= \"Returns\" )\n",
    "plt.plot(data['SP_log'], alpha + data['SP_log']*beta_reg, color = 'b', label = 'CAPM Line')\n",
    "plt.xlabel('Market Monthly Return: IBM')\n",
    "plt.ylabel('Investment Monthly Return: SP')\n",
    "plt.legend(bbox_to_anchor=(1.01, 0.8), loc=2, borderaxespad=0.)\n",
    "plt.show()"
   ]
  },
  {
   "cell_type": "markdown",
   "metadata": {},
   "source": [
    "# =========================================="
   ]
  },
  {
   "cell_type": "markdown",
   "metadata": {},
   "source": [
    "##### define a single function that gives us $\\alpha$, $\\beta$ and the corresponding plot. "
   ]
  },
  {
   "cell_type": "code",
   "execution_count": 12,
   "metadata": {},
   "outputs": [],
   "source": [
    "def CAPM_Monthly(stock_a,stock_m, period):\n",
    "    \n",
    "    data1, data2 = yf.Ticker(stock_a[0]), yf.Ticker(stock_m[0])\n",
    "    asset, mrkt = data1.history(period = period,rounding=2), data2.history(period = period,rounding=2)    \n",
    "    data_a, data_m   = asset['Close'], mrkt['Close']    \n",
    "    \n",
    "    # monthly returns\n",
    "    M_stock_a = data_a.resample('M').last()\n",
    "    M_stock_m = data_m.resample('M').last()\n",
    "    \n",
    "    data = pd.DataFrame({'Inv_Close':M_stock_a, 'Markt_Close': M_stock_m})\n",
    "    data[['Inv_Ret','Markt_Ret']] = np.log(data[['Inv_Close','Markt_Close']]/data[['Inv_Close','Markt_Close']].shift(1))\n",
    "    data.dropna(inplace=True)\n",
    "    \n",
    "    beta_form = (data[['Inv_Ret','Markt_Ret']].cov()/data['Markt_Ret'].var()).iloc[0].iloc[1]\n",
    "    beta_reg, alpha = np.polyfit(x = data['Markt_Ret'] , y = data['Inv_Ret'] ,deg = 1)\n",
    " \n",
    "    print('\\n')\n",
    "    print(20*'==')\n",
    "    print('Beta from formula: ',beta_form.round(4))\n",
    "    print('Beta from Linear Regression: ',beta_reg.round(4))\n",
    "    print('Alpha: ', alpha.round(3))\n",
    "    print(20*'==')\n",
    "    \n",
    "    plt.figure(figsize = (13,9))   \n",
    "    plt.axvline(0, color='grey', alpha = 0.5)\n",
    "    plt.axhline(0, color='grey', alpha = 0.5)\n",
    "    plt.scatter(y = 'Inv_Ret', x = 'Markt_Ret', data = data, label = 'Returns')\n",
    "    plt.plot(data['Markt_Ret'], alpha + data['Markt_Ret']*beta_reg, color = 'b', label = 'CAPM Line')\n",
    "    plt.xlabel('Market Monthly Return: {}'.format(stock_m[0]))\n",
    "    plt.ylabel('Investment Monthly Return: {}'.format(stock_a[0]))\n",
    "    plt.legend(bbox_to_anchor=(1.01, 0.8), loc=2, borderaxespad=0.)\n",
    "    plt.show()   "
   ]
  },
  {
   "cell_type": "code",
   "execution_count": 15,
   "metadata": {},
   "outputs": [
    {
     "name": "stdout",
     "output_type": "stream",
     "text": [
      "\n",
      "\n",
      "========================================\n",
      "Beta from formula:  1.0589\n",
      "Beta from Linear Regression:  1.0589\n",
      "Alpha:  -0.01\n",
      "========================================\n"
     ]
    },
    {
     "data": {
      "image/png": "[encoded data removed]",
      "text/plain": [
       "<Figure size 936x648 with 1 Axes>"
      ]
     },
     "metadata": {},
     "output_type": "display_data"
    }
   ],
   "source": [
    "stock_a =['IBM']\n",
    "stock_m = ['^GSPC']\n",
    "period = '10y'\n",
    "CAPM_Monthly(stock_a,stock_m,period)"
   ]
  },
  {
   "cell_type": "code",
   "execution_count": 18,
   "metadata": {},
   "outputs": [],
   "source": [
    "def CAPM_daily(stock_a,stock_m, period):    \n",
    "    data1, data2 = yf.Ticker(stock_a[0]), yf.Ticker(stock_m[0])\n",
    "    asset, mrkt = data1.history(period = period,rounding=2), data2.history(period = period,rounding=2)    \n",
    "    data_a, data_m   = asset['Close'], mrkt['Close']\n",
    "    M_stock_a, M_stock_m = data_a, data_m        \n",
    "    data = pd.DataFrame({'Inv_Close':M_stock_a, 'Markt_Close': M_stock_m})\n",
    "    data[['Inv_Ret','Markt_Ret']] = np.log(data[['Inv_Close','Markt_Close']]/data[['Inv_Close','Markt_Close']].shift(1))\n",
    "    data.dropna(inplace=True)    \n",
    "    beta_form = (data[['Inv_Ret','Markt_Ret']].cov()/data['Markt_Ret'].var()).iloc[0].iloc[1]\n",
    "    beta_reg, alpha = np.polyfit(x = data['Markt_Ret'] , y = data['Inv_Ret'] ,deg = 1) \n",
    "    print('\\n')\n",
    "    print(20*'==')\n",
    "    print('Beta from formula: ',beta_form.round(5))\n",
    "    print('Beta from Linear Regression: ',beta_reg.round(4))\n",
    "    print('Alpha: ', alpha.round(3))\n",
    "    print(20*'==')    \n",
    "    plt.figure(figsize = (13,9))    \n",
    "    plt.axvline(0, color='grey', alpha = 0.5)\n",
    "    plt.axhline(0, color='grey', alpha = 0.5)\n",
    "    plt.scatter(y = 'Inv_Ret', x = 'Markt_Ret', data = data, color = 'g', label = 'Returns')\n",
    "    plt.plot(data['Markt_Ret'], alpha + data['Markt_Ret']*beta_reg, color = 'b', label = 'CAPM Line')\n",
    "    plt.xlabel('Market daily Return: {}'.format(stock_m[0]))\n",
    "    plt.ylabel('Investment daily Return: {}'.format(stock_a[0]))\n",
    "    plt.legend(bbox_to_anchor=(1.01, 0.8), loc=2, borderaxespad=0.)\n",
    "    plt.show()"
   ]
  },
  {
   "cell_type": "code",
   "execution_count": 19,
   "metadata": {},
   "outputs": [
    {
     "name": "stdout",
     "output_type": "stream",
     "text": [
      "\n",
      "\n",
      "========================================\n",
      "Beta from formula:  0.91125\n",
      "Beta from Linear Regression:  0.9112\n",
      "Alpha:  -0.0\n",
      "========================================\n"
     ]
    },
    {
     "data": {
      "image/png": "[encoded data removed]",
      "text/plain": [
       "<Figure size 936x648 with 1 Axes>"
      ]
     },
     "metadata": {},
     "output_type": "display_data"
    }
   ],
   "source": [
    "stock_a =['IBM']\n",
    "stock_m = ['^GSPC']\n",
    "period = '10y'\n",
    "CAPM_daily(stock_a,stock_m,period)"
   ]
  },
  {
   "cell_type": "markdown",
   "metadata": {},
   "source": [
    "### Statistical Analysis of CAPM"
   ]
  },
  {
   "cell_type": "code",
   "execution_count": 20,
   "metadata": {},
   "outputs": [
    {
     "name": "stderr",
     "output_type": "stream",
     "text": [
      "c:\\python3.9\\lib\\site-packages\\statsmodels\\compat\\pandas.py:65: FutureWarning: pandas.Int64Index is deprecated and will be removed from pandas in a future version. Use pandas.Index with the appropriate dtype instead.\n",
      "  from pandas import Int64Index as NumericIndex\n"
     ]
    },
    {
     "data": {
      "text/plain": [
       "(              Open    High     Low   Close   Volume  Dividends  Stock Splits\n",
       " Date                                                                        \n",
       " 2012-02-06  128.54  129.39  128.22  128.77  3807231   0.000000           0.0\n",
       " 2012-02-07  128.52  129.65  128.20  129.12  3590918   0.000000           0.0\n",
       " 2012-02-08  129.24  129.78  128.54  129.36  3978775   0.717017           0.0\n",
       " 2012-02-09  129.41  130.37  129.09  129.48  4054714   0.000000           0.0\n",
       " 2012-02-10  128.56  129.01  128.24  129.00  3547091   0.000000           0.0,\n",
       "                Open     High      Low    Close      Volume  Dividends  \\\n",
       " Date                                                                    \n",
       " 2012-02-06  1344.32  1344.36  1337.52  1344.33  3379700000          0   \n",
       " 2012-02-07  1344.33  1349.24  1335.92  1347.05  3742460000          0   \n",
       " 2012-02-08  1347.04  1351.00  1341.95  1349.96  4096730000          0   \n",
       " 2012-02-09  1349.97  1354.32  1344.63  1351.95  4209890000          0   \n",
       " 2012-02-10  1351.21  1351.21  1337.35  1342.64  3877580000          0   \n",
       " \n",
       "             Stock Splits  \n",
       " Date                      \n",
       " 2012-02-06             0  \n",
       " 2012-02-07             0  \n",
       " 2012-02-08             0  \n",
       " 2012-02-09             0  \n",
       " 2012-02-10             0  )"
      ]
     },
     "execution_count": 20,
     "metadata": {},
     "output_type": "execute_result"
    }
   ],
   "source": [
    "import statsmodels.api as sm\n",
    "import yfinance as yf\n",
    "data1, data2 = yf.Ticker(\"IBM\"), yf.Ticker('^GSPC')\n",
    "ibm, sp = data1.history(period = \"10y\",rounding=2), data2.history(period = \"10y\",rounding=2)\n",
    "ibm.head(5), sp.head(5)"
   ]
  },
  {
   "cell_type": "code",
   "execution_count": 21,
   "metadata": {},
   "outputs": [
    {
     "name": "stdout",
     "output_type": "stream",
     "text": [
      "                                 OLS Regression Results                                \n",
      "=======================================================================================\n",
      "Dep. Variable:                  Close   R-squared (uncentered):                   0.428\n",
      "Model:                            OLS   Adj. R-squared (uncentered):              0.428\n",
      "Method:                 Least Squares   F-statistic:                              1883.\n",
      "Date:                Fri, 04 Feb 2022   Prob (F-statistic):                   1.51e-307\n",
      "Time:                        17:25:59   Log-Likelihood:                          7802.5\n",
      "No. Observations:                2517   AIC:                                 -1.560e+04\n",
      "Df Residuals:                    2516   BIC:                                 -1.560e+04\n",
      "Df Model:                           1                                                  \n",
      "Covariance Type:            nonrobust                                                  \n",
      "==============================================================================\n",
      "                 coef    std err          t      P>|t|      [0.025      0.975]\n",
      "------------------------------------------------------------------------------\n",
      "Close          0.9098      0.021     43.390      0.000       0.869       0.951\n",
      "==============================================================================\n",
      "Omnibus:                      956.031   Durbin-Watson:                   1.948\n",
      "Prob(Omnibus):                  0.000   Jarque-Bera (JB):            33517.915\n",
      "Skew:                          -1.128   Prob(JB):                         0.00\n",
      "Kurtosis:                      20.734   Cond. No.                         1.00\n",
      "==============================================================================\n",
      "\n",
      "Notes:\n",
      "[1] R² is computed without centering (uncentered) since the model does not contain a constant.\n",
      "[2] Standard Errors assume that the covariance matrix of the errors is correctly specified.\n"
     ]
    }
   ],
   "source": [
    "ibm_ret = ibm.Close.pct_change()\n",
    "ibm_ret = ibm_ret.dropna()\n",
    "sp_ret = sp.Close.pct_change()\n",
    "sp_ret = sp_ret.dropna()\n",
    "results = sm.OLS(ibm_ret, sp_ret).fit()\n",
    "print(results.summary())"
   ]
  },
  {
   "cell_type": "code",
   "execution_count": 22,
   "metadata": {},
   "outputs": [
    {
     "data": {
      "text/plain": [
       "(0.9115368650432355,\n",
       " -0.0003563295426909452,\n",
       " 0.6546570093541497,\n",
       " 5.765809957232515e-308,\n",
       " 0.020987984511449422)"
      ]
     },
     "execution_count": 22,
     "metadata": {},
     "output_type": "execute_result"
    }
   ],
   "source": [
    "from scipy import stats\n",
    "(beta, alpha, r_value,p_value,std_err)=stats.linregress(sp_ret, ibm_ret)\n",
    "beta, alpha, r_value,p_value,std_err"
   ]
  }
 ],
 "metadata": {
  "kernelspec": {
   "display_name": "Python 3 (ipykernel)",
   "language": "python",
   "name": "python3"
  },
  "language_info": {
   "codemirror_mode": {
    "name": "ipython",
    "version": 3
   },
   "file_extension": ".py",
   "mimetype": "text/x-python",
   "name": "python",
   "nbconvert_exporter": "python",
   "pygments_lexer": "ipython3",
   "version": "3.9.0"
  }
 },
 "nbformat": 4,
 "nbformat_minor": 2
}
