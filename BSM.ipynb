{
 "cells": [
  {
   "cell_type": "markdown",
   "id": "0847ec99",
   "metadata": {},
   "source": [
    "# Black-Scholes-Merton Model"
   ]
  },
  {
   "cell_type": "markdown",
   "id": "6602f9dd",
   "metadata": {},
   "source": [
    "Black–Scholes–Merton model is a mathematical model for the dynamics of a financial market containing derivative investment instruments. From the partial differential equation in the model, known as the <b>Black–Scholes equation </b>, one can deduce the Black–Scholes formula, which gives a theoretical estimate of the price of European-style options. "
   ]
  },
  {
   "cell_type": "markdown",
   "id": "ce31f674",
   "metadata": {},
   "source": [
    "For a European call or put on an underlying stock paying no dividends, the <b>Black–Scholes equation </b>is:\n",
    "\n",
    "$${\\frac {\\partial V}{\\partial t}}+{\\frac {1}{2}}\\sigma ^{2}S^{2}{\\frac {\\partial ^{2}V}{\\partial S^{2}}}+rS{\\frac {\\partial V}{\\partial S}}-rV=0$$\n",
    "\n",
    "where V is the price of the option as a function of stock price $S$ and time $t$, $r$ is the risk-free interest rate, and $\\sigma$  is the volatility of the stock."
   ]
  },
  {
   "cell_type": "markdown",
   "id": "96f2456e",
   "metadata": {},
   "source": [
    "**Hypothesis  made on the assets**\n",
    "1. <b>Riskless rate</b> : The rate of return on the riskless asset is constant and thus called the risk-free interest rate.\n",
    "2. <b>Random walk</b> : The instantaneous log return of stock price is an infinitesimal random walk with drift; more precisely, the stock price follows a <b> geometric Brownian motion</b>, and we will assume its drift and volatility are constant (if they are time-varying, we can deduce a suitably modified Black–Scholes formula quite simply, as long as the volatility is not random).\n",
    "3. The stock does not pay a dividend."
   ]
  },
  {
   "cell_type": "markdown",
   "id": "cee513c7",
   "metadata": {},
   "source": [
    "**Geometric Brownian motion(GBM)**\n",
    "\n",
    "A stochastic process St is said to follow a GBM if it satisfies the following stochastic differential equation (SDE):\n",
    "\n",
    "$$dS_{t}=\\mu S_{t}\\,dt+\\sigma S_{t}\\ dW_{t}$$\n",
    "\n",
    "where $W_{t}$ is a Wiener process or Brownian motion, and $\\mu$  ('the percentage drift') and $\\sigma$  ('the percentage volatility') are constants.\n",
    "\n",
    "The former is used to model deterministic trends, while the latter term is often used to model a set of unpredictable events occurring during this motion."
   ]
  },
  {
   "cell_type": "markdown",
   "id": "14e649b4",
   "metadata": {},
   "source": [
    "**Black-Scholes formula**\n",
    "\n",
    "The Black-Scholes call formula is: $$C(S_{t},t) = S_tN(d_1) - \\frac{K}{e^{r(T-t)}} N(d_2)$$  \n",
    "Where $S_t$ is the stock price  \n",
    "$N(*)$ is the cumulative distribution function of the standard normal distribution (Don't worry scipy does this part)  \n",
    "$K$ is the strike price  \n",
    "$r$ is the risk free rate (annual rate)  \n",
    "$T - t$ is the time to maturity (in years)  \n",
    "$\\sigma$ is the volatility of the stock (aka standard deviation of the asset returns)"
   ]
  },
  {
   "cell_type": "markdown",
   "id": "a038ce91",
   "metadata": {},
   "source": [
    " and \n",
    "$$d_1 = \\frac{ln(\\frac{s}{K}) + (r + \\frac{\\sigma^2}{2}) (T-t)}{\\sigma \\sqrt{T-t}}$$  \n",
    "$$d_2 = d_1 - \\sigma \\sqrt{T-t} = \\frac{ln(\\frac{s}{K}) + (r - \\frac{\\sigma^2}{2}) (T-t)}{\\sigma \\sqrt{T-t}}$$  "
   ]
  },
  {
   "cell_type": "markdown",
   "id": "6ff55abd",
   "metadata": {},
   "source": [
    "The price of a corresponding put option based on put–call parity with discount factor $e^{{-r(T-t)}}$ is:\n",
    "\n",
    "$$P(S_{t},t) =\\frac{K}{e^{r(T-t)}}-S_{t}+C(S_{t},t) = N(-d_{2})\\frac{K}{e^{r(T-t)}}-N(-d_{1})S_{t}$$"
   ]
  },
  {
   "cell_type": "markdown",
   "id": "95eee461",
   "metadata": {},
   "source": [
    "**Side Note**  \n",
    "If these were dividend paying stocks the $d_1$ and $d_2$ would be slightly different and look like this:  \n",
    "$$d_1 = \\frac{ln(\\frac{s}{K}) + (r - q + \\frac{\\sigma^2}{2}) (T-t)}{\\sigma \\sqrt{T-t}}$$  \n",
    "$$d_2 = \\frac{ln(\\frac{s}{K}) + (r - q - \\frac{\\sigma^2}{2}) (T-t)}{\\sigma \\sqrt{T-t}}$$  \n",
    "Where $q$ is the dividend rate"
   ]
  },
  {
   "cell_type": "markdown",
   "id": "3df4fcca",
   "metadata": {},
   "source": [
    "**Put–call parity**\n",
    "\n",
    "\n",
    "$$ C-P= D(F-K)$$\n",
    "\n",
    "where\n",
    "C is the (current) value of a call, P is the (current) value of a put, D is the discount factor, F is the forward price of the asset, and K is the strike price."
   ]
  },
  {
   "cell_type": "code",
   "execution_count": 1,
   "id": "9541ed4e",
   "metadata": {},
   "outputs": [],
   "source": [
    "import warnings\n",
    "warnings.filterwarnings ('ignore') \n",
    "from scipy import log,exp,sqrt,stats, random\n",
    "import numpy as np\n",
    "import matplotlib.pyplot as plt\n",
    "random.seed(42)"
   ]
  },
  {
   "cell_type": "code",
   "execution_count": 2,
   "id": "25df42bf",
   "metadata": {},
   "outputs": [],
   "source": [
    "def Nd1(S,K,T,r,sigma):    \n",
    "    return (log(S/K)+(r+sigma*sigma/2.)*T)/(sigma*sqrt(T))\n",
    "\n",
    "def Nd2(S,K,T,r,sigma):\n",
    "    d1 = Nd1(S,K,T,r,sigma) \n",
    "    return d1-sigma*sqrt(T)\n",
    "\n",
    "def call(S,K,T,r,sigma):\n",
    "    d1 = Nd1(S,K,T,r,sigma)\n",
    "    d2 = Nd2(S,K,T,r,sigma)\n",
    "    c = (S*stats.norm.cdf(d1))-(X*exp(-r*T)*stats.norm.cdf(d2))\n",
    "    return c\n",
    "\n",
    "def put(S,X,T,r,sigma):\n",
    "    p= X*exp(-r*T)-S+call(S,X,T,r,sigma)    \n",
    "    return p\n",
    "\n",
    "def monte_carlo_path_simulator(S, T, r, sigma, steps, N):\n",
    "    dt = T/steps       \n",
    "    ST = np.log(S) +  np.cumsum(((r - sigma**2/2)*dt +sigma*np.sqrt(dt) * np.random.normal(size=(steps,N))),axis=0)    \n",
    "    return np.exp(ST)"
   ]
  },
  {
   "cell_type": "code",
   "execution_count": 3,
   "id": "daa4f595",
   "metadata": {},
   "outputs": [],
   "source": [
    "S = 100 # stock price\n",
    "K = 110 # strike price\n",
    "T = 0.5 # maturaty period\n",
    "r = 0.05 # risk free risk in annual %\n",
    "sigma = 0.15 # annual volatility in %\n",
    "steps = 100 # time steps \n",
    "N = 100 # number of trials or simulation"
   ]
  },
  {
   "cell_type": "markdown",
   "id": "50232cff",
   "metadata": {},
   "source": [
    "### 1. Call Option "
   ]
  },
  {
   "cell_type": "markdown",
   "id": "569b438b",
   "metadata": {},
   "source": [
    "$$C = max(S_t - K, 0)$$  \n",
    "Where\n",
    "\n",
    "$S_T$ is the price of the underlying stock on the maturity date  \n",
    "$K$ is the strike price  "
   ]
  },
  {
   "cell_type": "code",
   "execution_count": 6,
   "id": "3243fd82",
   "metadata": {
    "scrolled": false
   },
   "outputs": [
    {
     "ename": "NameError",
     "evalue": "name 'X' is not defined",
     "output_type": "error",
     "traceback": [
      "\u001b[1;31m---------------------------------------------------------------------------\u001b[0m",
      "\u001b[1;31mNameError\u001b[0m                                 Traceback (most recent call last)",
      "Input \u001b[1;32mIn [6]\u001b[0m, in \u001b[0;36m<module>\u001b[1;34m\u001b[0m\n\u001b[0;32m      2\u001b[0m C \u001b[38;5;241m=\u001b[39m np\u001b[38;5;241m.\u001b[39mmaximum(sim_call_array[\u001b[38;5;241m-\u001b[39m\u001b[38;5;241m1\u001b[39m]\u001b[38;5;241m-\u001b[39mK, \u001b[38;5;241m0\u001b[39m)\n\u001b[0;32m      3\u001b[0m sim_option_price \u001b[38;5;241m=\u001b[39m np\u001b[38;5;241m.\u001b[39mmean(C)\u001b[38;5;241m*\u001b[39mnp\u001b[38;5;241m.\u001b[39mexp(\u001b[38;5;241m-\u001b[39mr\u001b[38;5;241m*\u001b[39mT)\n\u001b[1;32m----> 4\u001b[0m c_bs \u001b[38;5;241m=\u001b[39m \u001b[43mcall\u001b[49m\u001b[43m(\u001b[49m\u001b[43mS\u001b[49m\u001b[43m,\u001b[49m\u001b[43mK\u001b[49m\u001b[43m,\u001b[49m\u001b[43mT\u001b[49m\u001b[43m,\u001b[49m\u001b[43mr\u001b[49m\u001b[43m,\u001b[49m\u001b[43msigma\u001b[49m\u001b[43m)\u001b[49m\n\u001b[0;32m      5\u001b[0m \u001b[38;5;28mprint\u001b[39m(\u001b[38;5;124m\"\u001b[39m\u001b[38;5;124mBlack-Scholes Price is :\u001b[39m\u001b[38;5;124m\"\u001b[39m, c_bs)\n\u001b[0;32m      6\u001b[0m \u001b[38;5;28mprint\u001b[39m(\u001b[38;5;124m\"\u001b[39m\u001b[38;5;124mSimulated price is :\u001b[39m\u001b[38;5;124m\"\u001b[39m, sim_option_price)\n",
      "Input \u001b[1;32mIn [2]\u001b[0m, in \u001b[0;36mcall\u001b[1;34m(S, K, T, r, sigma)\u001b[0m\n\u001b[0;32m      9\u001b[0m d1 \u001b[38;5;241m=\u001b[39m Nd1(S,K,T,r,sigma)\n\u001b[0;32m     10\u001b[0m d2 \u001b[38;5;241m=\u001b[39m Nd2(S,K,T,r,sigma)\n\u001b[1;32m---> 11\u001b[0m c \u001b[38;5;241m=\u001b[39m (S\u001b[38;5;241m*\u001b[39mstats\u001b[38;5;241m.\u001b[39mnorm\u001b[38;5;241m.\u001b[39mcdf(d1))\u001b[38;5;241m-\u001b[39m(\u001b[43mX\u001b[49m\u001b[38;5;241m*\u001b[39mexp(\u001b[38;5;241m-\u001b[39mr\u001b[38;5;241m*\u001b[39mT)\u001b[38;5;241m*\u001b[39mstats\u001b[38;5;241m.\u001b[39mnorm\u001b[38;5;241m.\u001b[39mcdf(d2))\n\u001b[0;32m     12\u001b[0m \u001b[38;5;28;01mreturn\u001b[39;00m c\n",
      "\u001b[1;31mNameError\u001b[0m: name 'X' is not defined"
     ]
    }
   ],
   "source": [
    "sim_call_array = monte_carlo_path_simulator(S, T, r, sigma, steps, N)\n",
    "C = np.maximum(sim_call_array[-1]-K, 0)\n",
    "sim_option_price = np.mean(C)*np.exp(-r*T)\n",
    "c_bs = call(S,K,T,r,sigma)\n",
    "print(\"Black-Scholes Price is :\", c_bs)\n",
    "print(\"Simulated price is :\", sim_option_price)\n",
    "\n",
    "# plot\n",
    "plt.figure (figsize = (12,8))\n",
    "plt.plot(sim_call_array);\n",
    "plt.xlabel(\"Time Increments\")\n",
    "plt.ylabel(\"Stock Price\")\n",
    "plt.title(\"Geometric Brownian Motion\")\n",
    "plt.show()"
   ]
  },
  {
   "cell_type": "markdown",
   "id": "f44f144b",
   "metadata": {},
   "source": [
    "### 2. Put Option"
   ]
  },
  {
   "cell_type": "markdown",
   "id": "4710c1c8",
   "metadata": {},
   "source": [
    "$$P = max(K-S_t, 0)$$ "
   ]
  },
  {
   "cell_type": "code",
   "execution_count": null,
   "id": "f48b463c",
   "metadata": {},
   "outputs": [],
   "source": [
    "S = 110 # stock price\n",
    "K = 100 # strike price\n",
    "T = 0.5 # maturaty period\n",
    "r = 0.05 # risk free risk in annual %\n",
    "sigma = 0.15 # annual volatility in %\n",
    "steps = 100 # time steps \n",
    "N = 100 # number of trials or simulation"
   ]
  },
  {
   "cell_type": "code",
   "execution_count": null,
   "id": "ba49c767",
   "metadata": {},
   "outputs": [],
   "source": [
    "sim_put_array = monte_carlo_path_simulator(S, T, r, sigma, steps, N)\n",
    "P = np.maximum(K-sim_put_array[-1], 0)\n",
    "sim_option_price = np.mean(P)*np.exp(-r*T) #discounting back to present value\n",
    "\n",
    "put_bs = put(S,X,T,r,sigma)\n",
    "print(\"Black Scholes Price is :\", put_bs)\n",
    "print(\"Simulated price is :\", sim_option_price)\n",
    "\n",
    "# plot\n",
    "plt.figure (figsize = (12,8))\n",
    "plt.plot(sim_call_array);\n",
    "plt.xlabel(\"Time Increments\")\n",
    "plt.ylabel(\"Stock Price\")\n",
    "plt.title(\"Geometric Brownian Motion\")\n",
    "plt.show()"
   ]
  },
  {
   "cell_type": "markdown",
   "id": "7046e824",
   "metadata": {},
   "source": [
    "## 2. European options with known dividends"
   ]
  },
  {
   "cell_type": "markdown",
   "id": "7c8457fc",
   "metadata": {},
   "source": [
    "### 1.Call Option "
   ]
  },
  {
   "cell_type": "code",
   "execution_count": null,
   "id": "56ac2334",
   "metadata": {},
   "outputs": [],
   "source": [
    "S0 = 100 # stock price\n",
    "X = 110 # strike price\n",
    "T = 0.5 # maturaty period\n",
    "r = 0.05 # risk free risk in annual %\n",
    "sigma = 0.2 # annual volatility in %\n",
    "div = 1.5\n",
    "\n",
    "S=S0-exp(-r*T*div)\n",
    "c = call(S,X,T,r,sigma)\n",
    "print(\"Call Option:\", round(c,3))"
   ]
  },
  {
   "cell_type": "markdown",
   "id": "9969f938",
   "metadata": {},
   "source": [
    "###  2. Put Option"
   ]
  },
  {
   "cell_type": "code",
   "execution_count": null,
   "id": "eee9456b",
   "metadata": {},
   "outputs": [],
   "source": [
    "S0 = 110 # stock price\n",
    "X = 100 # strike price\n",
    "T = 0.5 # maturaty period\n",
    "r = 0.05 # risk free risk in annual %\n",
    "sigma = 0.2 # annual volatility in %\n",
    "div = 1.5\n",
    "\n",
    "S=S0-exp(-r*T*div)\n",
    "p = put(S,X,T,r,sigma)\n",
    "print(\"Put Option:\", round(p,3))"
   ]
  }
 ],
 "metadata": {
  "kernelspec": {
   "display_name": "Python 3 (ipykernel)",
   "language": "python",
   "name": "python3"
  },
  "language_info": {
   "codemirror_mode": {
    "name": "ipython",
    "version": 3
   },
   "file_extension": ".py",
   "mimetype": "text/x-python",
   "name": "python",
   "nbconvert_exporter": "python",
   "pygments_lexer": "ipython3",
   "version": "3.9.0"
  }
 },
 "nbformat": 4,
 "nbformat_minor": 5
}
